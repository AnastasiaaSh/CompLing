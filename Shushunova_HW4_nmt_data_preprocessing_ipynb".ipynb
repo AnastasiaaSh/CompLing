{
  "nbformat": 4,
  "nbformat_minor": 0,
  "metadata": {
    "colab": {
      "provenance": [],
      "collapsed_sections": [
        "9C2JcKk4YR3t",
        "gv7N888pPWEZ",
        "Y1xMNAbMZuQk",
        "Zrouq467Phx5"
      ],
      "include_colab_link": true
    },
    "kernelspec": {
      "name": "python3",
      "display_name": "Python 3"
    },
    "language_info": {
      "name": "python"
    },
    "widgets": {
      "application/vnd.jupyter.widget-state+json": {
        "52e43215724d43eba4cfc528fb03e486": {
          "model_module": "@jupyter-widgets/controls",
          "model_name": "HBoxModel",
          "model_module_version": "1.5.0",
          "state": {
            "_dom_classes": [],
            "_model_module": "@jupyter-widgets/controls",
            "_model_module_version": "1.5.0",
            "_model_name": "HBoxModel",
            "_view_count": null,
            "_view_module": "@jupyter-widgets/controls",
            "_view_module_version": "1.5.0",
            "_view_name": "HBoxView",
            "box_style": "",
            "children": [
              "IPY_MODEL_29434211b302427abeb2ed7bcdd576f3",
              "IPY_MODEL_fa3d4b0450af45519593f4be0dd20558",
              "IPY_MODEL_e320bfd3dc9347f9b20e6ecd7ea6f7d9"
            ],
            "layout": "IPY_MODEL_f2cfcd46aa8f4138bc6e4bfc9b50f3d5"
          }
        },
        "29434211b302427abeb2ed7bcdd576f3": {
          "model_module": "@jupyter-widgets/controls",
          "model_name": "HTMLModel",
          "model_module_version": "1.5.0",
          "state": {
            "_dom_classes": [],
            "_model_module": "@jupyter-widgets/controls",
            "_model_module_version": "1.5.0",
            "_model_name": "HTMLModel",
            "_view_count": null,
            "_view_module": "@jupyter-widgets/controls",
            "_view_module_version": "1.5.0",
            "_view_name": "HTMLView",
            "description": "",
            "description_tooltip": null,
            "layout": "IPY_MODEL_fe728566249843e0a7efe9f303401cc6",
            "placeholder": "​",
            "style": "IPY_MODEL_12c838a0fb434e7a8a8448edd51b00c1",
            "value": "Downloading builder script: 100%"
          }
        },
        "fa3d4b0450af45519593f4be0dd20558": {
          "model_module": "@jupyter-widgets/controls",
          "model_name": "FloatProgressModel",
          "model_module_version": "1.5.0",
          "state": {
            "_dom_classes": [],
            "_model_module": "@jupyter-widgets/controls",
            "_model_module_version": "1.5.0",
            "_model_name": "FloatProgressModel",
            "_view_count": null,
            "_view_module": "@jupyter-widgets/controls",
            "_view_module_version": "1.5.0",
            "_view_name": "ProgressView",
            "bar_style": "success",
            "description": "",
            "description_tooltip": null,
            "layout": "IPY_MODEL_d2743c8afefe4ecd94fae25157d2ac39",
            "max": 5937,
            "min": 0,
            "orientation": "horizontal",
            "style": "IPY_MODEL_f5d47cc678024f70847d7ce73cedfedf",
            "value": 5937
          }
        },
        "e320bfd3dc9347f9b20e6ecd7ea6f7d9": {
          "model_module": "@jupyter-widgets/controls",
          "model_name": "HTMLModel",
          "model_module_version": "1.5.0",
          "state": {
            "_dom_classes": [],
            "_model_module": "@jupyter-widgets/controls",
            "_model_module_version": "1.5.0",
            "_model_name": "HTMLModel",
            "_view_count": null,
            "_view_module": "@jupyter-widgets/controls",
            "_view_module_version": "1.5.0",
            "_view_name": "HTMLView",
            "description": "",
            "description_tooltip": null,
            "layout": "IPY_MODEL_6af3a50816de40ba986dbfe5476f2660",
            "placeholder": "​",
            "style": "IPY_MODEL_6550f52561154945a89c4f561fb9dc79",
            "value": " 5.94k/5.94k [00:00&lt;00:00, 181kB/s]"
          }
        },
        "f2cfcd46aa8f4138bc6e4bfc9b50f3d5": {
          "model_module": "@jupyter-widgets/base",
          "model_name": "LayoutModel",
          "model_module_version": "1.2.0",
          "state": {
            "_model_module": "@jupyter-widgets/base",
            "_model_module_version": "1.2.0",
            "_model_name": "LayoutModel",
            "_view_count": null,
            "_view_module": "@jupyter-widgets/base",
            "_view_module_version": "1.2.0",
            "_view_name": "LayoutView",
            "align_content": null,
            "align_items": null,
            "align_self": null,
            "border": null,
            "bottom": null,
            "display": null,
            "flex": null,
            "flex_flow": null,
            "grid_area": null,
            "grid_auto_columns": null,
            "grid_auto_flow": null,
            "grid_auto_rows": null,
            "grid_column": null,
            "grid_gap": null,
            "grid_row": null,
            "grid_template_areas": null,
            "grid_template_columns": null,
            "grid_template_rows": null,
            "height": null,
            "justify_content": null,
            "justify_items": null,
            "left": null,
            "margin": null,
            "max_height": null,
            "max_width": null,
            "min_height": null,
            "min_width": null,
            "object_fit": null,
            "object_position": null,
            "order": null,
            "overflow": null,
            "overflow_x": null,
            "overflow_y": null,
            "padding": null,
            "right": null,
            "top": null,
            "visibility": null,
            "width": null
          }
        },
        "fe728566249843e0a7efe9f303401cc6": {
          "model_module": "@jupyter-widgets/base",
          "model_name": "LayoutModel",
          "model_module_version": "1.2.0",
          "state": {
            "_model_module": "@jupyter-widgets/base",
            "_model_module_version": "1.2.0",
            "_model_name": "LayoutModel",
            "_view_count": null,
            "_view_module": "@jupyter-widgets/base",
            "_view_module_version": "1.2.0",
            "_view_name": "LayoutView",
            "align_content": null,
            "align_items": null,
            "align_self": null,
            "border": null,
            "bottom": null,
            "display": null,
            "flex": null,
            "flex_flow": null,
            "grid_area": null,
            "grid_auto_columns": null,
            "grid_auto_flow": null,
            "grid_auto_rows": null,
            "grid_column": null,
            "grid_gap": null,
            "grid_row": null,
            "grid_template_areas": null,
            "grid_template_columns": null,
            "grid_template_rows": null,
            "height": null,
            "justify_content": null,
            "justify_items": null,
            "left": null,
            "margin": null,
            "max_height": null,
            "max_width": null,
            "min_height": null,
            "min_width": null,
            "object_fit": null,
            "object_position": null,
            "order": null,
            "overflow": null,
            "overflow_x": null,
            "overflow_y": null,
            "padding": null,
            "right": null,
            "top": null,
            "visibility": null,
            "width": null
          }
        },
        "12c838a0fb434e7a8a8448edd51b00c1": {
          "model_module": "@jupyter-widgets/controls",
          "model_name": "DescriptionStyleModel",
          "model_module_version": "1.5.0",
          "state": {
            "_model_module": "@jupyter-widgets/controls",
            "_model_module_version": "1.5.0",
            "_model_name": "DescriptionStyleModel",
            "_view_count": null,
            "_view_module": "@jupyter-widgets/base",
            "_view_module_version": "1.2.0",
            "_view_name": "StyleView",
            "description_width": ""
          }
        },
        "d2743c8afefe4ecd94fae25157d2ac39": {
          "model_module": "@jupyter-widgets/base",
          "model_name": "LayoutModel",
          "model_module_version": "1.2.0",
          "state": {
            "_model_module": "@jupyter-widgets/base",
            "_model_module_version": "1.2.0",
            "_model_name": "LayoutModel",
            "_view_count": null,
            "_view_module": "@jupyter-widgets/base",
            "_view_module_version": "1.2.0",
            "_view_name": "LayoutView",
            "align_content": null,
            "align_items": null,
            "align_self": null,
            "border": null,
            "bottom": null,
            "display": null,
            "flex": null,
            "flex_flow": null,
            "grid_area": null,
            "grid_auto_columns": null,
            "grid_auto_flow": null,
            "grid_auto_rows": null,
            "grid_column": null,
            "grid_gap": null,
            "grid_row": null,
            "grid_template_areas": null,
            "grid_template_columns": null,
            "grid_template_rows": null,
            "height": null,
            "justify_content": null,
            "justify_items": null,
            "left": null,
            "margin": null,
            "max_height": null,
            "max_width": null,
            "min_height": null,
            "min_width": null,
            "object_fit": null,
            "object_position": null,
            "order": null,
            "overflow": null,
            "overflow_x": null,
            "overflow_y": null,
            "padding": null,
            "right": null,
            "top": null,
            "visibility": null,
            "width": null
          }
        },
        "f5d47cc678024f70847d7ce73cedfedf": {
          "model_module": "@jupyter-widgets/controls",
          "model_name": "ProgressStyleModel",
          "model_module_version": "1.5.0",
          "state": {
            "_model_module": "@jupyter-widgets/controls",
            "_model_module_version": "1.5.0",
            "_model_name": "ProgressStyleModel",
            "_view_count": null,
            "_view_module": "@jupyter-widgets/base",
            "_view_module_version": "1.2.0",
            "_view_name": "StyleView",
            "bar_color": null,
            "description_width": ""
          }
        },
        "6af3a50816de40ba986dbfe5476f2660": {
          "model_module": "@jupyter-widgets/base",
          "model_name": "LayoutModel",
          "model_module_version": "1.2.0",
          "state": {
            "_model_module": "@jupyter-widgets/base",
            "_model_module_version": "1.2.0",
            "_model_name": "LayoutModel",
            "_view_count": null,
            "_view_module": "@jupyter-widgets/base",
            "_view_module_version": "1.2.0",
            "_view_name": "LayoutView",
            "align_content": null,
            "align_items": null,
            "align_self": null,
            "border": null,
            "bottom": null,
            "display": null,
            "flex": null,
            "flex_flow": null,
            "grid_area": null,
            "grid_auto_columns": null,
            "grid_auto_flow": null,
            "grid_auto_rows": null,
            "grid_column": null,
            "grid_gap": null,
            "grid_row": null,
            "grid_template_areas": null,
            "grid_template_columns": null,
            "grid_template_rows": null,
            "height": null,
            "justify_content": null,
            "justify_items": null,
            "left": null,
            "margin": null,
            "max_height": null,
            "max_width": null,
            "min_height": null,
            "min_width": null,
            "object_fit": null,
            "object_position": null,
            "order": null,
            "overflow": null,
            "overflow_x": null,
            "overflow_y": null,
            "padding": null,
            "right": null,
            "top": null,
            "visibility": null,
            "width": null
          }
        },
        "6550f52561154945a89c4f561fb9dc79": {
          "model_module": "@jupyter-widgets/controls",
          "model_name": "DescriptionStyleModel",
          "model_module_version": "1.5.0",
          "state": {
            "_model_module": "@jupyter-widgets/controls",
            "_model_module_version": "1.5.0",
            "_model_name": "DescriptionStyleModel",
            "_view_count": null,
            "_view_module": "@jupyter-widgets/base",
            "_view_module_version": "1.2.0",
            "_view_name": "StyleView",
            "description_width": ""
          }
        },
        "066c384ccaee4516a5836849ef468878": {
          "model_module": "@jupyter-widgets/controls",
          "model_name": "HBoxModel",
          "model_module_version": "1.5.0",
          "state": {
            "_dom_classes": [],
            "_model_module": "@jupyter-widgets/controls",
            "_model_module_version": "1.5.0",
            "_model_name": "HBoxModel",
            "_view_count": null,
            "_view_module": "@jupyter-widgets/controls",
            "_view_module_version": "1.5.0",
            "_view_name": "HBoxView",
            "box_style": "",
            "children": [
              "IPY_MODEL_ec1b5adebb4346ef976e9d15b8d1718b",
              "IPY_MODEL_9eb48c1d955c49cf90796830c48e7ec6",
              "IPY_MODEL_4460edde18b0405bacfa35ed6497e8e6"
            ],
            "layout": "IPY_MODEL_3fdf6458a4f4417ebdf1db75c20ed950"
          }
        },
        "ec1b5adebb4346ef976e9d15b8d1718b": {
          "model_module": "@jupyter-widgets/controls",
          "model_name": "HTMLModel",
          "model_module_version": "1.5.0",
          "state": {
            "_dom_classes": [],
            "_model_module": "@jupyter-widgets/controls",
            "_model_module_version": "1.5.0",
            "_model_name": "HTMLModel",
            "_view_count": null,
            "_view_module": "@jupyter-widgets/controls",
            "_view_module_version": "1.5.0",
            "_view_name": "HTMLView",
            "description": "",
            "description_tooltip": null,
            "layout": "IPY_MODEL_d78acd0b13b946be940cec6d6b3c74bd",
            "placeholder": "​",
            "style": "IPY_MODEL_3d27e7d2d41c44d3b7e8c929e6d27783",
            "value": "Downloading extra modules: "
          }
        },
        "9eb48c1d955c49cf90796830c48e7ec6": {
          "model_module": "@jupyter-widgets/controls",
          "model_name": "FloatProgressModel",
          "model_module_version": "1.5.0",
          "state": {
            "_dom_classes": [],
            "_model_module": "@jupyter-widgets/controls",
            "_model_module_version": "1.5.0",
            "_model_name": "FloatProgressModel",
            "_view_count": null,
            "_view_module": "@jupyter-widgets/controls",
            "_view_module_version": "1.5.0",
            "_view_name": "ProgressView",
            "bar_style": "success",
            "description": "",
            "description_tooltip": null,
            "layout": "IPY_MODEL_d17d04e1486d41fd9b525869649f2917",
            "max": 1554,
            "min": 0,
            "orientation": "horizontal",
            "style": "IPY_MODEL_c4b0abc6b46f4d149b2c844cd0bd4db3",
            "value": 1554
          }
        },
        "4460edde18b0405bacfa35ed6497e8e6": {
          "model_module": "@jupyter-widgets/controls",
          "model_name": "HTMLModel",
          "model_module_version": "1.5.0",
          "state": {
            "_dom_classes": [],
            "_model_module": "@jupyter-widgets/controls",
            "_model_module_version": "1.5.0",
            "_model_name": "HTMLModel",
            "_view_count": null,
            "_view_module": "@jupyter-widgets/controls",
            "_view_module_version": "1.5.0",
            "_view_name": "HTMLView",
            "description": "",
            "description_tooltip": null,
            "layout": "IPY_MODEL_7b1e619a93ef4d839cdebb7a11f45ae5",
            "placeholder": "​",
            "style": "IPY_MODEL_5fe747ee2811425b84cc39ed5e2f75c7",
            "value": " 4.07k/? [00:00&lt;00:00, 9.98kB/s]"
          }
        },
        "3fdf6458a4f4417ebdf1db75c20ed950": {
          "model_module": "@jupyter-widgets/base",
          "model_name": "LayoutModel",
          "model_module_version": "1.2.0",
          "state": {
            "_model_module": "@jupyter-widgets/base",
            "_model_module_version": "1.2.0",
            "_model_name": "LayoutModel",
            "_view_count": null,
            "_view_module": "@jupyter-widgets/base",
            "_view_module_version": "1.2.0",
            "_view_name": "LayoutView",
            "align_content": null,
            "align_items": null,
            "align_self": null,
            "border": null,
            "bottom": null,
            "display": null,
            "flex": null,
            "flex_flow": null,
            "grid_area": null,
            "grid_auto_columns": null,
            "grid_auto_flow": null,
            "grid_auto_rows": null,
            "grid_column": null,
            "grid_gap": null,
            "grid_row": null,
            "grid_template_areas": null,
            "grid_template_columns": null,
            "grid_template_rows": null,
            "height": null,
            "justify_content": null,
            "justify_items": null,
            "left": null,
            "margin": null,
            "max_height": null,
            "max_width": null,
            "min_height": null,
            "min_width": null,
            "object_fit": null,
            "object_position": null,
            "order": null,
            "overflow": null,
            "overflow_x": null,
            "overflow_y": null,
            "padding": null,
            "right": null,
            "top": null,
            "visibility": null,
            "width": null
          }
        },
        "d78acd0b13b946be940cec6d6b3c74bd": {
          "model_module": "@jupyter-widgets/base",
          "model_name": "LayoutModel",
          "model_module_version": "1.2.0",
          "state": {
            "_model_module": "@jupyter-widgets/base",
            "_model_module_version": "1.2.0",
            "_model_name": "LayoutModel",
            "_view_count": null,
            "_view_module": "@jupyter-widgets/base",
            "_view_module_version": "1.2.0",
            "_view_name": "LayoutView",
            "align_content": null,
            "align_items": null,
            "align_self": null,
            "border": null,
            "bottom": null,
            "display": null,
            "flex": null,
            "flex_flow": null,
            "grid_area": null,
            "grid_auto_columns": null,
            "grid_auto_flow": null,
            "grid_auto_rows": null,
            "grid_column": null,
            "grid_gap": null,
            "grid_row": null,
            "grid_template_areas": null,
            "grid_template_columns": null,
            "grid_template_rows": null,
            "height": null,
            "justify_content": null,
            "justify_items": null,
            "left": null,
            "margin": null,
            "max_height": null,
            "max_width": null,
            "min_height": null,
            "min_width": null,
            "object_fit": null,
            "object_position": null,
            "order": null,
            "overflow": null,
            "overflow_x": null,
            "overflow_y": null,
            "padding": null,
            "right": null,
            "top": null,
            "visibility": null,
            "width": null
          }
        },
        "3d27e7d2d41c44d3b7e8c929e6d27783": {
          "model_module": "@jupyter-widgets/controls",
          "model_name": "DescriptionStyleModel",
          "model_module_version": "1.5.0",
          "state": {
            "_model_module": "@jupyter-widgets/controls",
            "_model_module_version": "1.5.0",
            "_model_name": "DescriptionStyleModel",
            "_view_count": null,
            "_view_module": "@jupyter-widgets/base",
            "_view_module_version": "1.2.0",
            "_view_name": "StyleView",
            "description_width": ""
          }
        },
        "d17d04e1486d41fd9b525869649f2917": {
          "model_module": "@jupyter-widgets/base",
          "model_name": "LayoutModel",
          "model_module_version": "1.2.0",
          "state": {
            "_model_module": "@jupyter-widgets/base",
            "_model_module_version": "1.2.0",
            "_model_name": "LayoutModel",
            "_view_count": null,
            "_view_module": "@jupyter-widgets/base",
            "_view_module_version": "1.2.0",
            "_view_name": "LayoutView",
            "align_content": null,
            "align_items": null,
            "align_self": null,
            "border": null,
            "bottom": null,
            "display": null,
            "flex": null,
            "flex_flow": null,
            "grid_area": null,
            "grid_auto_columns": null,
            "grid_auto_flow": null,
            "grid_auto_rows": null,
            "grid_column": null,
            "grid_gap": null,
            "grid_row": null,
            "grid_template_areas": null,
            "grid_template_columns": null,
            "grid_template_rows": null,
            "height": null,
            "justify_content": null,
            "justify_items": null,
            "left": null,
            "margin": null,
            "max_height": null,
            "max_width": null,
            "min_height": null,
            "min_width": null,
            "object_fit": null,
            "object_position": null,
            "order": null,
            "overflow": null,
            "overflow_x": null,
            "overflow_y": null,
            "padding": null,
            "right": null,
            "top": null,
            "visibility": null,
            "width": null
          }
        },
        "c4b0abc6b46f4d149b2c844cd0bd4db3": {
          "model_module": "@jupyter-widgets/controls",
          "model_name": "ProgressStyleModel",
          "model_module_version": "1.5.0",
          "state": {
            "_model_module": "@jupyter-widgets/controls",
            "_model_module_version": "1.5.0",
            "_model_name": "ProgressStyleModel",
            "_view_count": null,
            "_view_module": "@jupyter-widgets/base",
            "_view_module_version": "1.2.0",
            "_view_name": "StyleView",
            "bar_color": null,
            "description_width": ""
          }
        },
        "7b1e619a93ef4d839cdebb7a11f45ae5": {
          "model_module": "@jupyter-widgets/base",
          "model_name": "LayoutModel",
          "model_module_version": "1.2.0",
          "state": {
            "_model_module": "@jupyter-widgets/base",
            "_model_module_version": "1.2.0",
            "_model_name": "LayoutModel",
            "_view_count": null,
            "_view_module": "@jupyter-widgets/base",
            "_view_module_version": "1.2.0",
            "_view_name": "LayoutView",
            "align_content": null,
            "align_items": null,
            "align_self": null,
            "border": null,
            "bottom": null,
            "display": null,
            "flex": null,
            "flex_flow": null,
            "grid_area": null,
            "grid_auto_columns": null,
            "grid_auto_flow": null,
            "grid_auto_rows": null,
            "grid_column": null,
            "grid_gap": null,
            "grid_row": null,
            "grid_template_areas": null,
            "grid_template_columns": null,
            "grid_template_rows": null,
            "height": null,
            "justify_content": null,
            "justify_items": null,
            "left": null,
            "margin": null,
            "max_height": null,
            "max_width": null,
            "min_height": null,
            "min_width": null,
            "object_fit": null,
            "object_position": null,
            "order": null,
            "overflow": null,
            "overflow_x": null,
            "overflow_y": null,
            "padding": null,
            "right": null,
            "top": null,
            "visibility": null,
            "width": null
          }
        },
        "5fe747ee2811425b84cc39ed5e2f75c7": {
          "model_module": "@jupyter-widgets/controls",
          "model_name": "DescriptionStyleModel",
          "model_module_version": "1.5.0",
          "state": {
            "_model_module": "@jupyter-widgets/controls",
            "_model_module_version": "1.5.0",
            "_model_name": "DescriptionStyleModel",
            "_view_count": null,
            "_view_module": "@jupyter-widgets/base",
            "_view_module_version": "1.2.0",
            "_view_name": "StyleView",
            "description_width": ""
          }
        },
        "dc58b70271fa4b0b947ea8c38302ab26": {
          "model_module": "@jupyter-widgets/controls",
          "model_name": "HBoxModel",
          "model_module_version": "1.5.0",
          "state": {
            "_dom_classes": [],
            "_model_module": "@jupyter-widgets/controls",
            "_model_module_version": "1.5.0",
            "_model_name": "HBoxModel",
            "_view_count": null,
            "_view_module": "@jupyter-widgets/controls",
            "_view_module_version": "1.5.0",
            "_view_name": "HBoxView",
            "box_style": "",
            "children": [
              "IPY_MODEL_10110e2c9a794db4b1c4a162dca17870",
              "IPY_MODEL_183ffdafb48044cab169078ab7489f3a",
              "IPY_MODEL_f3819317f8364497bfd7b938a359e1f1"
            ],
            "layout": "IPY_MODEL_d5dfbd19d2694da0bac9172349246be7"
          }
        },
        "10110e2c9a794db4b1c4a162dca17870": {
          "model_module": "@jupyter-widgets/controls",
          "model_name": "HTMLModel",
          "model_module_version": "1.5.0",
          "state": {
            "_dom_classes": [],
            "_model_module": "@jupyter-widgets/controls",
            "_model_module_version": "1.5.0",
            "_model_name": "HTMLModel",
            "_view_count": null,
            "_view_module": "@jupyter-widgets/controls",
            "_view_module_version": "1.5.0",
            "_view_name": "HTMLView",
            "description": "",
            "description_tooltip": null,
            "layout": "IPY_MODEL_54a0e1c7eb7c4bb59e7e33fd19795cb9",
            "placeholder": "​",
            "style": "IPY_MODEL_f87262143d4242b09b65b642ec076037",
            "value": "Downloading extra modules: 100%"
          }
        },
        "183ffdafb48044cab169078ab7489f3a": {
          "model_module": "@jupyter-widgets/controls",
          "model_name": "FloatProgressModel",
          "model_module_version": "1.5.0",
          "state": {
            "_dom_classes": [],
            "_model_module": "@jupyter-widgets/controls",
            "_model_module_version": "1.5.0",
            "_model_name": "FloatProgressModel",
            "_view_count": null,
            "_view_module": "@jupyter-widgets/controls",
            "_view_module_version": "1.5.0",
            "_view_name": "ProgressView",
            "bar_style": "success",
            "description": "",
            "description_tooltip": null,
            "layout": "IPY_MODEL_16904e36a4584772a002e2cf2762b8c7",
            "max": 3344,
            "min": 0,
            "orientation": "horizontal",
            "style": "IPY_MODEL_c5bbbf73800949ffac3e6d5ab4dfa110",
            "value": 3344
          }
        },
        "f3819317f8364497bfd7b938a359e1f1": {
          "model_module": "@jupyter-widgets/controls",
          "model_name": "HTMLModel",
          "model_module_version": "1.5.0",
          "state": {
            "_dom_classes": [],
            "_model_module": "@jupyter-widgets/controls",
            "_model_module_version": "1.5.0",
            "_model_name": "HTMLModel",
            "_view_count": null,
            "_view_module": "@jupyter-widgets/controls",
            "_view_module_version": "1.5.0",
            "_view_name": "HTMLView",
            "description": "",
            "description_tooltip": null,
            "layout": "IPY_MODEL_8c3f53ae7cb041a7b2d499c56faca6eb",
            "placeholder": "​",
            "style": "IPY_MODEL_daf78fd1b4c94b26b41fa6c1c72f1409",
            "value": " 3.34k/3.34k [00:00&lt;00:00, 45.7kB/s]"
          }
        },
        "d5dfbd19d2694da0bac9172349246be7": {
          "model_module": "@jupyter-widgets/base",
          "model_name": "LayoutModel",
          "model_module_version": "1.2.0",
          "state": {
            "_model_module": "@jupyter-widgets/base",
            "_model_module_version": "1.2.0",
            "_model_name": "LayoutModel",
            "_view_count": null,
            "_view_module": "@jupyter-widgets/base",
            "_view_module_version": "1.2.0",
            "_view_name": "LayoutView",
            "align_content": null,
            "align_items": null,
            "align_self": null,
            "border": null,
            "bottom": null,
            "display": null,
            "flex": null,
            "flex_flow": null,
            "grid_area": null,
            "grid_auto_columns": null,
            "grid_auto_flow": null,
            "grid_auto_rows": null,
            "grid_column": null,
            "grid_gap": null,
            "grid_row": null,
            "grid_template_areas": null,
            "grid_template_columns": null,
            "grid_template_rows": null,
            "height": null,
            "justify_content": null,
            "justify_items": null,
            "left": null,
            "margin": null,
            "max_height": null,
            "max_width": null,
            "min_height": null,
            "min_width": null,
            "object_fit": null,
            "object_position": null,
            "order": null,
            "overflow": null,
            "overflow_x": null,
            "overflow_y": null,
            "padding": null,
            "right": null,
            "top": null,
            "visibility": null,
            "width": null
          }
        },
        "54a0e1c7eb7c4bb59e7e33fd19795cb9": {
          "model_module": "@jupyter-widgets/base",
          "model_name": "LayoutModel",
          "model_module_version": "1.2.0",
          "state": {
            "_model_module": "@jupyter-widgets/base",
            "_model_module_version": "1.2.0",
            "_model_name": "LayoutModel",
            "_view_count": null,
            "_view_module": "@jupyter-widgets/base",
            "_view_module_version": "1.2.0",
            "_view_name": "LayoutView",
            "align_content": null,
            "align_items": null,
            "align_self": null,
            "border": null,
            "bottom": null,
            "display": null,
            "flex": null,
            "flex_flow": null,
            "grid_area": null,
            "grid_auto_columns": null,
            "grid_auto_flow": null,
            "grid_auto_rows": null,
            "grid_column": null,
            "grid_gap": null,
            "grid_row": null,
            "grid_template_areas": null,
            "grid_template_columns": null,
            "grid_template_rows": null,
            "height": null,
            "justify_content": null,
            "justify_items": null,
            "left": null,
            "margin": null,
            "max_height": null,
            "max_width": null,
            "min_height": null,
            "min_width": null,
            "object_fit": null,
            "object_position": null,
            "order": null,
            "overflow": null,
            "overflow_x": null,
            "overflow_y": null,
            "padding": null,
            "right": null,
            "top": null,
            "visibility": null,
            "width": null
          }
        },
        "f87262143d4242b09b65b642ec076037": {
          "model_module": "@jupyter-widgets/controls",
          "model_name": "DescriptionStyleModel",
          "model_module_version": "1.5.0",
          "state": {
            "_model_module": "@jupyter-widgets/controls",
            "_model_module_version": "1.5.0",
            "_model_name": "DescriptionStyleModel",
            "_view_count": null,
            "_view_module": "@jupyter-widgets/base",
            "_view_module_version": "1.2.0",
            "_view_name": "StyleView",
            "description_width": ""
          }
        },
        "16904e36a4584772a002e2cf2762b8c7": {
          "model_module": "@jupyter-widgets/base",
          "model_name": "LayoutModel",
          "model_module_version": "1.2.0",
          "state": {
            "_model_module": "@jupyter-widgets/base",
            "_model_module_version": "1.2.0",
            "_model_name": "LayoutModel",
            "_view_count": null,
            "_view_module": "@jupyter-widgets/base",
            "_view_module_version": "1.2.0",
            "_view_name": "LayoutView",
            "align_content": null,
            "align_items": null,
            "align_self": null,
            "border": null,
            "bottom": null,
            "display": null,
            "flex": null,
            "flex_flow": null,
            "grid_area": null,
            "grid_auto_columns": null,
            "grid_auto_flow": null,
            "grid_auto_rows": null,
            "grid_column": null,
            "grid_gap": null,
            "grid_row": null,
            "grid_template_areas": null,
            "grid_template_columns": null,
            "grid_template_rows": null,
            "height": null,
            "justify_content": null,
            "justify_items": null,
            "left": null,
            "margin": null,
            "max_height": null,
            "max_width": null,
            "min_height": null,
            "min_width": null,
            "object_fit": null,
            "object_position": null,
            "order": null,
            "overflow": null,
            "overflow_x": null,
            "overflow_y": null,
            "padding": null,
            "right": null,
            "top": null,
            "visibility": null,
            "width": null
          }
        },
        "c5bbbf73800949ffac3e6d5ab4dfa110": {
          "model_module": "@jupyter-widgets/controls",
          "model_name": "ProgressStyleModel",
          "model_module_version": "1.5.0",
          "state": {
            "_model_module": "@jupyter-widgets/controls",
            "_model_module_version": "1.5.0",
            "_model_name": "ProgressStyleModel",
            "_view_count": null,
            "_view_module": "@jupyter-widgets/base",
            "_view_module_version": "1.2.0",
            "_view_name": "StyleView",
            "bar_color": null,
            "description_width": ""
          }
        },
        "8c3f53ae7cb041a7b2d499c56faca6eb": {
          "model_module": "@jupyter-widgets/base",
          "model_name": "LayoutModel",
          "model_module_version": "1.2.0",
          "state": {
            "_model_module": "@jupyter-widgets/base",
            "_model_module_version": "1.2.0",
            "_model_name": "LayoutModel",
            "_view_count": null,
            "_view_module": "@jupyter-widgets/base",
            "_view_module_version": "1.2.0",
            "_view_name": "LayoutView",
            "align_content": null,
            "align_items": null,
            "align_self": null,
            "border": null,
            "bottom": null,
            "display": null,
            "flex": null,
            "flex_flow": null,
            "grid_area": null,
            "grid_auto_columns": null,
            "grid_auto_flow": null,
            "grid_auto_rows": null,
            "grid_column": null,
            "grid_gap": null,
            "grid_row": null,
            "grid_template_areas": null,
            "grid_template_columns": null,
            "grid_template_rows": null,
            "height": null,
            "justify_content": null,
            "justify_items": null,
            "left": null,
            "margin": null,
            "max_height": null,
            "max_width": null,
            "min_height": null,
            "min_width": null,
            "object_fit": null,
            "object_position": null,
            "order": null,
            "overflow": null,
            "overflow_x": null,
            "overflow_y": null,
            "padding": null,
            "right": null,
            "top": null,
            "visibility": null,
            "width": null
          }
        },
        "daf78fd1b4c94b26b41fa6c1c72f1409": {
          "model_module": "@jupyter-widgets/controls",
          "model_name": "DescriptionStyleModel",
          "model_module_version": "1.5.0",
          "state": {
            "_model_module": "@jupyter-widgets/controls",
            "_model_module_version": "1.5.0",
            "_model_name": "DescriptionStyleModel",
            "_view_count": null,
            "_view_module": "@jupyter-widgets/base",
            "_view_module_version": "1.2.0",
            "_view_name": "StyleView",
            "description_width": ""
          }
        }
      }
    }
  },
  "cells": [
    {
      "cell_type": "markdown",
      "metadata": {
        "id": "view-in-github",
        "colab_type": "text"
      },
      "source": [
        "<a href=\"https://colab.research.google.com/github/AnastasiaaSh/CompLing/blob/main/Shushunova_HW4_nmt_data_preprocessing_ipynb%22.ipynb\" target=\"_parent\"><img src=\"https://colab.research.google.com/assets/colab-badge.svg\" alt=\"Open In Colab\"/></a>"
      ]
    },
    {
      "cell_type": "markdown",
      "source": [
        "`Курс \"Компьютерная лингвистика\" | НИУ ВШЭ Санкт-Петербург 2024 (c) В.И. Фирсанова`"
      ],
      "metadata": {
        "id": "mQvakFO6NW9e"
      }
    },
    {
      "cell_type": "markdown",
      "source": [
        "# Нейросетевой машинный перевод: подготовка данных к машинному обучению"
      ],
      "metadata": {
        "id": "mG7BGK5QYMUe"
      }
    },
    {
      "cell_type": "markdown",
      "source": [
        "План занятия:\n",
        "\n",
        "I. Знакомимся с процессом подготовки данных к машинному обучению\n",
        "\n",
        "II. Вместе проходим туториал TensorFlow и осваиваем модель кодер-декодер на примере рекуррентной нейросети"
      ],
      "metadata": {
        "id": "Zqijo01Tagqd"
      }
    },
    {
      "cell_type": "markdown",
      "source": [
        "## Загрузка данных"
      ],
      "metadata": {
        "id": "9C2JcKk4YR3t"
      }
    },
    {
      "cell_type": "code",
      "source": [
        "!wget https://raw.githubusercontent.com/vifirsanova/compling/main/data/toy_data.en\n",
        "!wget https://raw.githubusercontent.com/vifirsanova/compling/main/data/toy_data.ru"
      ],
      "metadata": {
        "colab": {
          "base_uri": "https://localhost:8080/"
        },
        "id": "HTzdykF64NA2",
        "outputId": "989c2643-e1c8-4cf2-b4fe-c7c5dc34d6e1"
      },
      "execution_count": null,
      "outputs": [
        {
          "output_type": "stream",
          "name": "stdout",
          "text": [
            "--2024-02-09 08:53:33--  https://raw.githubusercontent.com/vifirsanova/compling/main/data/toy_data.en\n",
            "Resolving raw.githubusercontent.com (raw.githubusercontent.com)... 185.199.109.133, 185.199.108.133, 185.199.111.133, ...\n",
            "Connecting to raw.githubusercontent.com (raw.githubusercontent.com)|185.199.109.133|:443... connected.\n",
            "HTTP request sent, awaiting response... 200 OK\n",
            "Length: 1590 (1.6K) [text/plain]\n",
            "Saving to: ‘toy_data.en’\n",
            "\n",
            "toy_data.en         100%[===================>]   1.55K  --.-KB/s    in 0s      \n",
            "\n",
            "2024-02-09 08:53:33 (21.3 MB/s) - ‘toy_data.en’ saved [1590/1590]\n",
            "\n",
            "--2024-02-09 08:53:33--  https://raw.githubusercontent.com/vifirsanova/compling/main/data/toy_data.ru\n",
            "Resolving raw.githubusercontent.com (raw.githubusercontent.com)... 185.199.108.133, 185.199.109.133, 185.199.110.133, ...\n",
            "Connecting to raw.githubusercontent.com (raw.githubusercontent.com)|185.199.108.133|:443... connected.\n",
            "HTTP request sent, awaiting response... 200 OK\n",
            "Length: 2501 (2.4K) [text/plain]\n",
            "Saving to: ‘toy_data.ru’\n",
            "\n",
            "toy_data.ru         100%[===================>]   2.44K  --.-KB/s    in 0s      \n",
            "\n",
            "2024-02-09 08:53:33 (46.0 MB/s) - ‘toy_data.ru’ saved [2501/2501]\n",
            "\n"
          ]
        }
      ]
    },
    {
      "cell_type": "markdown",
      "source": [
        "Импорт библиотек"
      ],
      "metadata": {
        "id": "RIbJJZcTYUQQ"
      }
    },
    {
      "cell_type": "code",
      "source": [
        "import numpy as np\n",
        "\n",
        "from sklearn.model_selection import train_test_split\n",
        "\n",
        "import tensorflow as tf"
      ],
      "metadata": {
        "id": "tLHJ1Sv14flo"
      },
      "execution_count": null,
      "outputs": []
    },
    {
      "cell_type": "markdown",
      "source": [
        "Запись данных в переменные"
      ],
      "metadata": {
        "id": "JXDVWi6yYX07"
      }
    },
    {
      "cell_type": "code",
      "source": [
        "def load_data(path):\n",
        "  with open(path, 'r', encoding='utf-8') as f:\n",
        "    return np.array(f.read().split('\\n'))"
      ],
      "metadata": {
        "id": "BtA7pYP-4U0Y"
      },
      "execution_count": null,
      "outputs": []
    },
    {
      "cell_type": "code",
      "source": [
        "x_data, y_data = load_data('toy_data.ru'), load_data('toy_data.en')\n",
        "\n",
        "print(\"Данные языка X:\\n\", x_data[5])\n",
        "print(\"Данные языка Y:\\n\", y_data[5])"
      ],
      "metadata": {
        "colab": {
          "base_uri": "https://localhost:8080/"
        },
        "id": "1Xy2YT7O3zen",
        "outputId": "bf101725-a577-41d0-b064-fa4d3606347c"
      },
      "execution_count": null,
      "outputs": [
        {
          "output_type": "stream",
          "name": "stdout",
          "text": [
            "Данные языка X:\n",
            "     Я люблю тебя.\n",
            "Данные языка Y:\n",
            "     I love you.\n"
          ]
        }
      ]
    },
    {
      "cell_type": "markdown",
      "source": [
        "Создаем выборки"
      ],
      "metadata": {
        "id": "E_5j8QYBYkMM"
      }
    },
    {
      "cell_type": "code",
      "source": [
        "x_train, x_test, y_train, y_test = train_test_split(x_data, y_data)\n",
        "\n",
        "print(\"Тестовые данные языка X:\\n\", x_test)\n",
        "print(\"Тестовые данные языка Y:\\n\", y_test)"
      ],
      "metadata": {
        "colab": {
          "base_uri": "https://localhost:8080/"
        },
        "id": "TCATNl2o5kRm",
        "outputId": "c362f3f3-5736-4fea-e7c4-dc2fa46ec6ff"
      },
      "execution_count": null,
      "outputs": [
        {
          "output_type": "stream",
          "name": "stdout",
          "text": [
            "Тестовые данные языка X:\n",
            " ['    Что ты хочешь сказать?' '    Какие у тебя планы на будущее?'\n",
            " '    Что ты хочешь сделать в будущем?' '    Что ты думаешь о этом месте?'\n",
            " '    Привет!' '    Какая твоя профессия?'\n",
            " '    Какие фильмы ты любишь смотреть?'\n",
            " '    Как ты относишься к этому предложению?'\n",
            " '    Что ты собираешься делать сегодня?' '    Я не понимаю.'\n",
            " '    Пожалуйста.' '    Какая твоя любимая песня?'\n",
            " '    Какой прекрасный день!']\n",
            "Тестовые данные языка Y:\n",
            " ['    What do you want to say?' '    What are your plans for the future?'\n",
            " '    What do you want to do in the future?'\n",
            " '    What do you think about this place?' '    Hello!'\n",
            " '    What is your profession?' '    What movies do you like to watch?'\n",
            " '    What is your attitude toward this proposal?'\n",
            " '    What are you going to do today?' \"    I don't understand.\"\n",
            " \"    You're welcome.\" '    What is your favorite song?'\n",
            " '    What a beautiful day!']\n"
          ]
        }
      ]
    },
    {
      "cell_type": "markdown",
      "source": [
        "## Кодирование"
      ],
      "metadata": {
        "id": "gv7N888pPWEZ"
      }
    },
    {
      "cell_type": "markdown",
      "source": [
        "Создаем объекты Dataset\n",
        "\n",
        "**Тензор** - объект векторного пространства V конечной размерности n\n",
        "\n",
        "*shape* - размерность тензора\n",
        "\n",
        "*dtype* - какие данные хранятся в объекте\n",
        "\n",
        "**Батч** - некий отрезок данных; на батчи обычно деляться данные для машинного обучения"
      ],
      "metadata": {
        "id": "2d02UYJsYoUF"
      }
    },
    {
      "cell_type": "code",
      "source": [
        "train_dataset = tf.data.Dataset.from_tensor_slices((x_train, y_train)).batch(64).shuffle(len(x_data))\n",
        "test_dataset = tf.data.Dataset.from_tensor_slices((x_test, y_test)).batch(64).shuffle(len(x_data))\n",
        "\n",
        "for x_strings, y_strings in train_dataset.take(1):\n",
        "  print(\"Образец tf-датасета, данные языка X:\\n\", x_strings[1:3])\n",
        "  print(\"\\nОбразец tf-датасета, данные языка Y:\\n\", y_strings[1:3])"
      ],
      "metadata": {
        "colab": {
          "base_uri": "https://localhost:8080/"
        },
        "id": "Gl2QRYyy42mk",
        "outputId": "f279a4df-6aaa-4afc-cd9a-8d210cf71b48"
      },
      "execution_count": null,
      "outputs": [
        {
          "output_type": "stream",
          "name": "stdout",
          "text": [
            "Образец tf-датасета, данные языка X:\n",
            " tf.Tensor(\n",
            "[b'    \\xd0\\xa7\\xd1\\x82\\xd0\\xbe \\xd1\\x82\\xd1\\x8b \\xd1\\x85\\xd0\\xbe\\xd1\\x82\\xd0\\xb5\\xd0\\xbb \\xd0\\xb1\\xd1\\x8b \\xd0\\xb7\\xd0\\xb0\\xd0\\xba\\xd0\\xb0\\xd0\\xb7\\xd0\\xb0\\xd1\\x82\\xd1\\x8c \\xd0\\xb2 \\xd1\\x8d\\xd1\\x82\\xd0\\xbe\\xd0\\xbc \\xd1\\x80\\xd0\\xb5\\xd1\\x81\\xd1\\x82\\xd0\\xbe\\xd1\\x80\\xd0\\xb0\\xd0\\xbd\\xd0\\xb5?'\n",
            " b'    \\xd0\\xa1\\xd0\\xbf\\xd0\\xb0\\xd1\\x81\\xd0\\xb8\\xd0\\xb1\\xd0\\xbe!'], shape=(2,), dtype=string)\n",
            "\n",
            "Образец tf-датасета, данные языка Y:\n",
            " tf.Tensor([b'    What would you like to order in this restaurant?' b'    Thank you!'], shape=(2,), dtype=string)\n"
          ]
        }
      ]
    },
    {
      "cell_type": "markdown",
      "source": [
        "Лирическое отступление: чем матрица отличается от тензора?\n",
        "\n",
        "Тензор - широкое понятие, в зависимости от его размерности выделяют:\n",
        "\n",
        "- скалярные тензоры (хранит ровно одно значение); `shape ()`\n",
        "\n",
        "- вектора (одномерный список значений любой длины);  `shape (n, )`\n",
        "\n",
        "- матрицы (двумерный массив, как таблица); `shape (n, m)`\n",
        "\n",
        "- тензоры (любая глубина); например `shape (n, m, k)` будет выглядеть как параллелепипед или как 3 состыкованные вместе матрицы (таблицы)"
      ],
      "metadata": {
        "id": "sHuoo3rXEzv7"
      }
    },
    {
      "cell_type": "code",
      "source": [
        "print(\"Скалярный тензор с числом 42:\\n\", tf.constant(42))\n",
        "print(\"\\n Вектор длины n=2 с числами 42 и 24:\\n\", tf.constant([42, 24]))\n",
        "print(\"\\n Матрица длины содержит m=3 вектора с числами 42 и 24 длины n=2:\\n\", tf.constant([[42, 24],\n",
        "                                                                                      [42, 24],\n",
        "                                                                                      [42, 24]]))\n",
        "print(\"\\n Трёхмерный тензор содержит k=2 матрицы; \\\n",
        "матрица содержит m=3 вектора с числами 42 и 24 длины n=2:\\n\", tf.constant([[[42, 24], [42, 24], [42, 24]],\n",
        "                                                                           [[42, 24], [42, 24], [42, 24]]]))\n",
        "# NB! 32 бита - объем занимаемой памяти, типы данных можно менять"
      ],
      "metadata": {
        "colab": {
          "base_uri": "https://localhost:8080/"
        },
        "id": "T4OwQMCyE69k",
        "outputId": "cb619edc-a05b-4798-c4e3-81a1eb808aa0"
      },
      "execution_count": null,
      "outputs": [
        {
          "output_type": "stream",
          "name": "stdout",
          "text": [
            "Скалярный тензор с числом 42:\n",
            " tf.Tensor(42, shape=(), dtype=int32)\n",
            "\n",
            " Вектор длины n=2 с числами 42 и 24:\n",
            " tf.Tensor([42 24], shape=(2,), dtype=int32)\n",
            "\n",
            " Матрица длины содержит m=3 вектора с числами 42 и 24 длины n=2:\n",
            " tf.Tensor(\n",
            "[[42 24]\n",
            " [42 24]\n",
            " [42 24]], shape=(3, 2), dtype=int32)\n",
            "\n",
            " Трёхмерный тензор содержит k=2 матрицы; матрица содержит m=3 вектора с числами 42 и 24 длины n=2:\n",
            " tf.Tensor(\n",
            "[[[42 24]\n",
            "  [42 24]\n",
            "  [42 24]]\n",
            "\n",
            " [[42 24]\n",
            "  [42 24]\n",
            "  [42 24]]], shape=(2, 3, 2), dtype=int32)\n"
          ]
        }
      ]
    },
    {
      "cell_type": "markdown",
      "source": [
        "Теперь немного посчитаем:"
      ],
      "metadata": {
        "id": "nDcYOuovJR47"
      }
    },
    {
      "cell_type": "code",
      "source": [
        "a = tf.constant([[1, 2],\n",
        "                 [3, 4]])\n",
        "\n",
        "b = tf.constant([[1, 1],\n",
        "                 [1, 2]])\n",
        "\n",
        "print(\"Сложение:\\n\", tf.add(a, b), \"\\n\")\n",
        "print(\"Умножение (поэлементное):\\n\", tf.multiply(a, b), \"\\n\")\n",
        "print(\"Умножение матриц:\\n\", tf.matmul(a, b), \"\\n\")\n",
        "\n",
        "# NB! К тензорам можно применять и другие функции, например, argmax"
      ],
      "metadata": {
        "colab": {
          "base_uri": "https://localhost:8080/"
        },
        "id": "bS1m7sCaJRSp",
        "outputId": "6217472a-710b-4dc5-eb0c-bce172bf6582"
      },
      "execution_count": null,
      "outputs": [
        {
          "output_type": "stream",
          "name": "stdout",
          "text": [
            "Сложение:\n",
            " tf.Tensor(\n",
            "[[2 3]\n",
            " [4 6]], shape=(2, 2), dtype=int32) \n",
            "\n",
            "Умножение (поэлементное):\n",
            " tf.Tensor(\n",
            "[[1 2]\n",
            " [3 8]], shape=(2, 2), dtype=int32) \n",
            "\n",
            "Умножение матриц:\n",
            " tf.Tensor(\n",
            "[[ 3  5]\n",
            " [ 7 11]], shape=(2, 2), dtype=int32) \n",
            "\n"
          ]
        }
      ]
    },
    {
      "cell_type": "markdown",
      "source": [
        "Обычно используют прямоугольные тензоры, т.е. количество элементов в каждом компоненте должно совпадать, но бывают исключения, например, `RaggedTensor`."
      ],
      "metadata": {
        "id": "DM5B-03SLXHU"
      }
    },
    {
      "cell_type": "code",
      "source": [
        "print('Без ragged мы получим ошибку!')\n",
        "\n",
        "tf.ragged.constant([\n",
        "                    ['this', 'is', 'a', 'sample', 'sentence'],\n",
        "                    ['this', 'sentence', 'is', 'shorter']\n",
        "                    ])"
      ],
      "metadata": {
        "colab": {
          "base_uri": "https://localhost:8080/"
        },
        "id": "VD3OY1sOLYWL",
        "outputId": "ed15aa48-de26-419a-adaa-b7d77028decf"
      },
      "execution_count": null,
      "outputs": [
        {
          "output_type": "stream",
          "name": "stdout",
          "text": [
            "Без ragged мы получим ошибку!\n"
          ]
        },
        {
          "output_type": "execute_result",
          "data": {
            "text/plain": [
              "<tf.RaggedTensor [[b'this', b'is', b'a', b'sample', b'sentence'],\n",
              " [b'this', b'sentence', b'is', b'shorter']]>"
            ]
          },
          "metadata": {},
          "execution_count": 35
        }
      ]
    },
    {
      "cell_type": "markdown",
      "source": [
        "Тензоры бывают плотные `dense` и `разреженные`.\n",
        "\n",
        "С разреженными векторами матрицами мы работаем, например, при использовании метода `one-hot encoding`."
      ],
      "metadata": {
        "id": "Lh5OX2R2Md-f"
      }
    },
    {
      "cell_type": "code",
      "source": [
        "print(\"Закодируем число 128 с помощью one-hot encoding\\n\")\n",
        "sparse_tensor = tf.sparse.SparseTensor(indices=[[0, 1], [1, 2], [2, 8]],\n",
        "                                       values=[1, 1, 1],\n",
        "                                       dense_shape=[3, 10])\n",
        "\n",
        "print(\"Метод sparse помогает нам сэкономить память компьютера\", sparse_tensor, \"\\n\")\n",
        "print(\"Вот, как выглядит наша матрица на самом деле:\\n\", tf.sparse.to_dense(sparse_tensor))"
      ],
      "metadata": {
        "colab": {
          "base_uri": "https://localhost:8080/"
        },
        "id": "jI3sZluuMauY",
        "outputId": "5be9e60a-9f1f-4cde-a5df-2a68e779f23a"
      },
      "execution_count": null,
      "outputs": [
        {
          "output_type": "stream",
          "name": "stdout",
          "text": [
            "Закодируем число 128 с помощью one-hot encoding\n",
            "\n",
            "Метод sparse помогает нам сэкономить память компьютера SparseTensor(indices=tf.Tensor(\n",
            "[[0 1]\n",
            " [1 2]\n",
            " [2 8]], shape=(3, 2), dtype=int64), values=tf.Tensor([1 1 1], shape=(3,), dtype=int32), dense_shape=tf.Tensor([ 3 10], shape=(2,), dtype=int64)) \n",
            "\n",
            "Вот, как выглядит наша матрица на самом деле:\n",
            " tf.Tensor(\n",
            "[[0 1 0 0 0 0 0 0 0 0]\n",
            " [0 0 1 0 0 0 0 0 0 0]\n",
            " [0 0 0 0 0 0 0 0 1 0]], shape=(3, 10), dtype=int32)\n"
          ]
        }
      ]
    },
    {
      "cell_type": "markdown",
      "source": [
        "## Предобработка данных"
      ],
      "metadata": {
        "id": "Y1xMNAbMZuQk"
      }
    },
    {
      "cell_type": "markdown",
      "source": [
        "Чистка и токенизация"
      ],
      "metadata": {
        "id": "aE_VKZt8PdOa"
      }
    },
    {
      "cell_type": "code",
      "source": [
        "def tokenize(text):\n",
        "  # к нижнему регистру\n",
        "  text_lower = tf.strings.lower(text, encoding='utf-8')\n",
        "  # оставим знаки препинания и все буквы латиницы и кириллицы\n",
        "  text_clean = tf.strings.regex_replace(text_lower, '[^ a-zа-я.?!,]', '')\n",
        "  # добавим пробел перед знаками препинания (для токенизации знаков)\n",
        "  text_punct = tf.strings.regex_replace(text_clean, '[.?!,]', r' \\0 ')\n",
        "  # избавимся от лишних пробелов\n",
        "  text = tf.strings.strip(text_punct)\n",
        "  # добавим метки начала (sos: start of the sentence) и конца (eos: end of the sentence) предложений\n",
        "  return tf.strings.join(['<SOS>', text, '<EOS>'], separator=' ')"
      ],
      "metadata": {
        "id": "eZOMmu1s8udM"
      },
      "execution_count": null,
      "outputs": []
    },
    {
      "cell_type": "code",
      "source": [
        "print(\"Образец токенизации:\\n\", tokenize(tf.constant(\"Как твои дела?\")).numpy().decode())"
      ],
      "metadata": {
        "colab": {
          "base_uri": "https://localhost:8080/"
        },
        "id": "n49wA3yM_ulB",
        "outputId": "a3f49da6-2af3-46b1-cb3f-af73e944f686"
      },
      "execution_count": null,
      "outputs": [
        {
          "output_type": "stream",
          "name": "stdout",
          "text": [
            "Образец токенизации:\n",
            " <SOS> как твои дела ? <EOS>\n"
          ]
        }
      ]
    },
    {
      "cell_type": "markdown",
      "source": [
        "Кодирование (векторизация): готовим данные для \"скармливания\" их модели"
      ],
      "metadata": {
        "id": "knE3JvQeZ0Er"
      }
    },
    {
      "cell_type": "code",
      "source": [
        "x_text_processor = tf.keras.layers.TextVectorization(standardize=tokenize, ragged=True)\n",
        "\n",
        "x_text_processor.adapt(train_dataset.map(lambda x, target: x))\n",
        "print(\"Образец обучающего словаря языка X:\\n\", x_text_processor.get_vocabulary()[:10])\n",
        "print(\"\\nОбразец закодированного текста X:\\n\\tТекст:\", x_strings[1].numpy().decode(), \"\\n\\tКодирование:\", x_text_processor(x_strings[1]))\n",
        "\n",
        "y_text_processor = tf.keras.layers.TextVectorization(standardize=tokenize, ragged=True)\n",
        "\n",
        "y_text_processor.adapt(train_dataset.map(lambda x, target: target))\n",
        "print(\"\\nОбразец обучающего словаря языка Y:\\n\", y_text_processor.get_vocabulary()[:10])\n",
        "print(\"\\nОбразец закодированного текста X:\\n\\tТекст:\", y_strings[1].numpy().decode(), \"\\n\\tКодирование:\", y_text_processor(y_strings[1]))"
      ],
      "metadata": {
        "colab": {
          "base_uri": "https://localhost:8080/"
        },
        "id": "QhNqOjwS_8GS",
        "outputId": "317d1191-5dfe-4854-81a8-180abe17d51a"
      },
      "execution_count": null,
      "outputs": [
        {
          "output_type": "stream",
          "name": "stdout",
          "text": [
            "Образец обучающего словаря языка X:\n",
            " ['', '[UNK]', '<SOS>', '<EOS>', '?', 'ты', 'что', 'как', 'тебя', 'у']\n",
            "\n",
            "Образец закодированного текста X:\n",
            "\tТекст:     Что ты хотел бы заказать в этом ресторане? \n",
            "\tКодирование: tf.Tensor([ 2  6  5 40 98 75 11 34 52  4  3], shape=(11,), dtype=int64)\n",
            "\n",
            "Образец обучающего словаря языка Y:\n",
            " ['', '[UNK]', '<SOS>', '<EOS>', '?', 'you', 'what', 'do', 'how', 'your']\n",
            "\n",
            "Образец закодированного текста X:\n",
            "\tТекст:     What would you like to order in this restaurant? \n",
            "\tКодирование: tf.Tensor([ 2  6 34  5 24 11 55 14 21 51  4  3], shape=(12,), dtype=int64)\n"
          ]
        }
      ]
    },
    {
      "cell_type": "code",
      "source": [
        "def encode(x, y):\n",
        "  # обработка текстов (текст -> словарь -> замена слов их ID'шками из словаря)\n",
        "  x_encoded = x_text_processor(x).to_tensor()\n",
        "  y_encoded = y_text_processor(y)\n",
        "  # (x_encoded, y_encoded) -> ((x_encoded, y_input), y_label) для keras.Model.fit\n",
        "  # Keras принимает (inputs, labels)\n",
        "  # inputs = (x_encoded, y_input)\n",
        "  # labels = y_label\n",
        "  # y_label += следующий за y_input токен\n",
        "  y_input = y_encoded[:,:-1].to_tensor()\n",
        "  y_label = y_encoded[:,1:].to_tensor()\n",
        "  return (x_encoded, y_input), y_label"
      ],
      "metadata": {
        "id": "espfq8SLCPkZ"
      },
      "execution_count": null,
      "outputs": []
    },
    {
      "cell_type": "code",
      "source": [
        "train = train_dataset.map(encode, tf.data.AUTOTUNE)\n",
        "test = test_dataset.map(encode, tf.data.AUTOTUNE)\n",
        "\n",
        "for (x_encoded_token, y_input_token), y_label_token in train.take(1):\n",
        "  print(\"Закодированный текст x:\")\n",
        "  print(x_encoded_token[1, :10].numpy())\n",
        "  print(\"\\nЗакодированный текст y:\")\n",
        "  print(y_input_token[1, :10].numpy())\n",
        "  print(\"\\nТот же текст y мы сдвинули на 1 токен вперед:\")\n",
        "  print(y_label_token[1, :10].numpy())"
      ],
      "metadata": {
        "colab": {
          "base_uri": "https://localhost:8080/"
        },
        "id": "m-CwqUCECmoP",
        "outputId": "c8f13242-43e1-4a29-a049-fd1d4b2ac658"
      },
      "execution_count": null,
      "outputs": [
        {
          "output_type": "stream",
          "name": "stdout",
          "text": [
            "Закодированный текст x:\n",
            "[ 2  6  5 40 98 75 11 34 52  4]\n",
            "\n",
            "Закодированный текст y:\n",
            "[ 2  6 34  5 24 11 55 14 21 51]\n",
            "\n",
            "Тот же текст y мы сдвинули на 1 токен вперед:\n",
            "[ 6 34  5 24 11 55 14 21 51  4]\n"
          ]
        }
      ]
    },
    {
      "cell_type": "markdown",
      "source": [
        "## Домашнее задание"
      ],
      "metadata": {
        "id": "Zrouq467Phx5"
      }
    },
    {
      "cell_type": "markdown",
      "source": [
        "Задание:\n",
        "\n",
        "1. **По желанию**\n",
        "\n",
        "* Ознакомиться с [туториалом TensorFlow](https://www.tensorflow.org/text/tutorials/nmt_with_attention) по машинному переводу\n",
        "\n",
        "* Адаптировать препроцессинг на основе этого воркбука и обучить модель из туториала TensorFlow на данных `toy_data.ru` и `toy_data.en`\n",
        "\n",
        "2. **Обязательно**\n",
        "\n",
        "* Ниже: образец подсчета BLEU-Score для системы машинного перевода. Вспомните, как считается BLEU и опишите своими словами форумулу расчета и интерпретацию результатов. Ответьте на следующие вопросы:\n",
        "\n",
        "  * Что значит кандидат и референс?\n",
        "  * Для чего подойдет BLEU-Score: подсчета отдельных переводов или результатов работы системы на целом корпусе?\n",
        "  * Какие \"скоры\" считаются высокими, а какие - низкими?\n",
        "  \n",
        "* Проанализируйте результаты в ячейках ниже. Порассуждайте:\n",
        "\n",
        "  * На ваш взгляд, какие слова, контексты вызвали трудности у автоматической системы?\n",
        "  * Руководствуясь знаниями о том, как работают нейросети, предположите, что вызвало ошибки."
      ],
      "metadata": {
        "id": "QqGQiqnKLifx"
      }
    },
    {
      "cell_type": "code",
      "source": [
        "!pip install evaluate"
      ],
      "metadata": {
        "id": "JiB4EwOsPRE8"
      },
      "execution_count": null,
      "outputs": []
    },
    {
      "cell_type": "code",
      "source": [
        "import evaluate\n",
        "\n",
        "predictions = [\n",
        "    \"In addition to the usual hockey, there is an underwater and even ice version of this game.\", #  Помимо обычного хоккея, существует подводная и даже подлёдная разновидности этой игры.\n",
        "    \"You reap what you sow.\", # Что посеешь - то и пожнешь.\n",
        "    \"Also, justice is how we distribute the small resources.\" # Также, справедливость - это и то, как мы распределяем малые ресурсы.\n",
        "    ]\n",
        "\n",
        "references = [\n",
        "    [\"In addition to conventional hockey, there is an underwater and even under-ice variety of this game.\"], #  Помимо обычного хоккея, существует подводная и даже подлёдная разновидности этой игры.\n",
        "    [\"What goes around comes around.\"], # Что посеешь - то и пожнешь.\n",
        "    [\"Fairness also has to do with how we distribute scarce resources.\"], # Также, справедливость - это и то, как мы распределяем малые ресурсы.\n",
        "    ]\n",
        "\n",
        "bleu = evaluate.load(\"bleu\")\n",
        "results = bleu.compute(predictions=predictions, references=references)\n",
        "\n",
        "print(results)"
      ],
      "metadata": {
        "colab": {
          "base_uri": "https://localhost:8080/",
          "height": 150,
          "referenced_widgets": [
            "52e43215724d43eba4cfc528fb03e486",
            "29434211b302427abeb2ed7bcdd576f3",
            "fa3d4b0450af45519593f4be0dd20558",
            "e320bfd3dc9347f9b20e6ecd7ea6f7d9",
            "f2cfcd46aa8f4138bc6e4bfc9b50f3d5",
            "fe728566249843e0a7efe9f303401cc6",
            "12c838a0fb434e7a8a8448edd51b00c1",
            "d2743c8afefe4ecd94fae25157d2ac39",
            "f5d47cc678024f70847d7ce73cedfedf",
            "6af3a50816de40ba986dbfe5476f2660",
            "6550f52561154945a89c4f561fb9dc79",
            "066c384ccaee4516a5836849ef468878",
            "ec1b5adebb4346ef976e9d15b8d1718b",
            "9eb48c1d955c49cf90796830c48e7ec6",
            "4460edde18b0405bacfa35ed6497e8e6",
            "3fdf6458a4f4417ebdf1db75c20ed950",
            "d78acd0b13b946be940cec6d6b3c74bd",
            "3d27e7d2d41c44d3b7e8c929e6d27783",
            "d17d04e1486d41fd9b525869649f2917",
            "c4b0abc6b46f4d149b2c844cd0bd4db3",
            "7b1e619a93ef4d839cdebb7a11f45ae5",
            "5fe747ee2811425b84cc39ed5e2f75c7",
            "dc58b70271fa4b0b947ea8c38302ab26",
            "10110e2c9a794db4b1c4a162dca17870",
            "183ffdafb48044cab169078ab7489f3a",
            "f3819317f8364497bfd7b938a359e1f1",
            "d5dfbd19d2694da0bac9172349246be7",
            "54a0e1c7eb7c4bb59e7e33fd19795cb9",
            "f87262143d4242b09b65b642ec076037",
            "16904e36a4584772a002e2cf2762b8c7",
            "c5bbbf73800949ffac3e6d5ab4dfa110",
            "8c3f53ae7cb041a7b2d499c56faca6eb",
            "daf78fd1b4c94b26b41fa6c1c72f1409"
          ]
        },
        "id": "e7uEHzktPJbB",
        "outputId": "4bc789d5-ea15-4a31-eb70-86188eb9656b"
      },
      "execution_count": null,
      "outputs": [
        {
          "output_type": "display_data",
          "data": {
            "text/plain": [
              "Downloading builder script:   0%|          | 0.00/5.94k [00:00<?, ?B/s]"
            ],
            "application/vnd.jupyter.widget-view+json": {
              "version_major": 2,
              "version_minor": 0,
              "model_id": "52e43215724d43eba4cfc528fb03e486"
            }
          },
          "metadata": {}
        },
        {
          "output_type": "display_data",
          "data": {
            "text/plain": [
              "Downloading extra modules:   0%|          | 0.00/1.55k [00:00<?, ?B/s]"
            ],
            "application/vnd.jupyter.widget-view+json": {
              "version_major": 2,
              "version_minor": 0,
              "model_id": "066c384ccaee4516a5836849ef468878"
            }
          },
          "metadata": {}
        },
        {
          "output_type": "display_data",
          "data": {
            "text/plain": [
              "Downloading extra modules:   0%|          | 0.00/3.34k [00:00<?, ?B/s]"
            ],
            "application/vnd.jupyter.widget-view+json": {
              "version_major": 2,
              "version_minor": 0,
              "model_id": "dc58b70271fa4b0b947ea8c38302ab26"
            }
          },
          "metadata": {}
        },
        {
          "output_type": "stream",
          "name": "stdout",
          "text": [
            "{'bleu': 0.374360558192794, 'precisions': [0.5833333333333334, 0.45454545454545453, 0.3333333333333333, 0.2222222222222222], 'brevity_penalty': 1.0, 'length_ratio': 1.0, 'translation_length': 36, 'reference_length': 36}\n"
          ]
        }
      ]
    },
    {
      "cell_type": "markdown",
      "source": [
        "Bleu Score - метрика, которая определяет, насколько модель машинного перевода хорошо справляется с задачей; оценивает качество перевода. Bleu Score сравнивает предложение с одним или несколькими references и показывает, насколько хорошо предложение candidate соответствует references. Выходной балл от 0 до 1, где 1 - идеальное соответствие, 0 - полное несоответствие. Bleu Score подходит как для подсчета отдельных переводов, так и с корпусом.\n",
        "\n",
        "К вопросу о трудностях: Некоторые слова или фразы могут иметь неоднозначные значения (в нашем случае фразеологизм) или вариации в переводе, что может привести к неточностям или ошибкам.\n",
        "\n",
        "Нейросети, в частности, могут столкнуться с трудностями в понимании и переводе фраз, которые требуют специализированных знаний или контекстуального понимания (все еще про фразеологизмы). И еще, некоторые слова-синонимы могут вызвать трудности (fairness-justice). Fairness используется в контексте \"здравый смысл\" и используется в обычном общении, а justice чаще все-таки используется в юридической среде.\n"
      ],
      "metadata": {
        "id": "i910kr9jZ40t"
      }
    }
  ]
}